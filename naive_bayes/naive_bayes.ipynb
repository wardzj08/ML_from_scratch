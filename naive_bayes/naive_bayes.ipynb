{
 "cells": [
  {
   "cell_type": "markdown",
   "metadata": {},
   "source": [
    "# Gaussian Naive Bayes Classifier"
   ]
  },
  {
   "cell_type": "code",
   "execution_count": 1,
   "metadata": {},
   "outputs": [],
   "source": [
    "import sys, os\n",
    "from sklearn import datasets\n",
    "from sklearn.model_selection import train_test_split\n",
    "from sklearn.naive_bayes import GaussianNB\n",
    "import numpy as np\n",
    "import pandas as pd\n",
    "sys.path.insert(0, os.getcwd() + '/../data_tools')\n",
    "from sklearn_pandas_converter import sklearn_to_df"
   ]
  },
  {
   "cell_type": "markdown",
   "metadata": {},
   "source": [
    "## Load Data"
   ]
  },
  {
   "cell_type": "code",
   "execution_count": 2,
   "metadata": {},
   "outputs": [
    {
     "data": {
      "text/html": [
       "<div>\n",
       "<style scoped>\n",
       "    .dataframe tbody tr th:only-of-type {\n",
       "        vertical-align: middle;\n",
       "    }\n",
       "\n",
       "    .dataframe tbody tr th {\n",
       "        vertical-align: top;\n",
       "    }\n",
       "\n",
       "    .dataframe thead th {\n",
       "        text-align: right;\n",
       "    }\n",
       "</style>\n",
       "<table border=\"1\" class=\"dataframe\">\n",
       "  <thead>\n",
       "    <tr style=\"text-align: right;\">\n",
       "      <th></th>\n",
       "      <th>sepal length (cm)</th>\n",
       "      <th>sepal width (cm)</th>\n",
       "      <th>petal length (cm)</th>\n",
       "      <th>petal width (cm)</th>\n",
       "      <th>target</th>\n",
       "    </tr>\n",
       "  </thead>\n",
       "  <tbody>\n",
       "    <tr>\n",
       "      <th>0</th>\n",
       "      <td>5.1</td>\n",
       "      <td>3.5</td>\n",
       "      <td>1.4</td>\n",
       "      <td>0.2</td>\n",
       "      <td>0</td>\n",
       "    </tr>\n",
       "    <tr>\n",
       "      <th>1</th>\n",
       "      <td>4.9</td>\n",
       "      <td>3.0</td>\n",
       "      <td>1.4</td>\n",
       "      <td>0.2</td>\n",
       "      <td>0</td>\n",
       "    </tr>\n",
       "    <tr>\n",
       "      <th>2</th>\n",
       "      <td>4.7</td>\n",
       "      <td>3.2</td>\n",
       "      <td>1.3</td>\n",
       "      <td>0.2</td>\n",
       "      <td>0</td>\n",
       "    </tr>\n",
       "    <tr>\n",
       "      <th>3</th>\n",
       "      <td>4.6</td>\n",
       "      <td>3.1</td>\n",
       "      <td>1.5</td>\n",
       "      <td>0.2</td>\n",
       "      <td>0</td>\n",
       "    </tr>\n",
       "    <tr>\n",
       "      <th>4</th>\n",
       "      <td>5.0</td>\n",
       "      <td>3.6</td>\n",
       "      <td>1.4</td>\n",
       "      <td>0.2</td>\n",
       "      <td>0</td>\n",
       "    </tr>\n",
       "  </tbody>\n",
       "</table>\n",
       "</div>"
      ],
      "text/plain": [
       "   sepal length (cm)  sepal width (cm)  petal length (cm)  petal width (cm)  \\\n",
       "0                5.1               3.5                1.4               0.2   \n",
       "1                4.9               3.0                1.4               0.2   \n",
       "2                4.7               3.2                1.3               0.2   \n",
       "3                4.6               3.1                1.5               0.2   \n",
       "4                5.0               3.6                1.4               0.2   \n",
       "\n",
       "   target  \n",
       "0       0  \n",
       "1       0  \n",
       "2       0  \n",
       "3       0  \n",
       "4       0  "
      ]
     },
     "execution_count": 2,
     "metadata": {},
     "output_type": "execute_result"
    }
   ],
   "source": [
    "datask = datasets.load_iris()\n",
    "data = sklearn_to_df(datask)\n",
    "data.head()"
   ]
  },
  {
   "cell_type": "markdown",
   "metadata": {},
   "source": [
    "## Process Data"
   ]
  },
  {
   "cell_type": "code",
   "execution_count": 3,
   "metadata": {},
   "outputs": [],
   "source": [
    "# Split data into features and classes\n",
    "x = data.drop(['target'], axis = 1)\n",
    "y = data['target']\n",
    "# Split data into train and test data\n",
    "x_train, x_test, y_train, y_test = train_test_split(x, y, train_size = 0.85, test_size = 0.15, random_state = 0)"
   ]
  },
  {
   "cell_type": "markdown",
   "metadata": {},
   "source": [
    "## Building the Model"
   ]
  },
  {
   "cell_type": "code",
   "execution_count": 4,
   "metadata": {},
   "outputs": [],
   "source": [
    "class gaussian_naive_bayes:\n",
    "    \n",
    "    def __init__(self):\n",
    "        self.num_classes = 0\n",
    "        self.params = []\n",
    "\n",
    "    #  Calculates p(CLASS|FEATURE) for an array of all features at a given class\n",
    "    def p_x_given_y(self, x, mean, var):\n",
    "        p = 1/(np.sqrt(2*np.pi*var)) * np.exp((-(x-mean)**2)/(2*var))\n",
    "        return p\n",
    "\n",
    "    # Calculates the numerator of bayes therom. P(CLASS)*P(FEATURE1|CLASS)*P(FEATURE2|CLASS)*...*P(FEATURE(N)|CLASS)\n",
    "    # Denominator is equivelent for all classes so it can be ignored\n",
    "    # Ignoring the denominator means the resultant is not a probability value, but corresponds directly to one\n",
    "    # This value is referred to as psuedo-posterior from here out\n",
    "    def calc_posteriors(self, features_test): #, class_num):\n",
    "        probs = []\n",
    "        for i in range(self.num_classes):\n",
    "            sub_probs = self.params[self.params[:, 0] == i]                                    \n",
    "            probs_by_feature = self.p_x_given_y(features_test, sub_probs[:, 3], sub_probs[:, 4])\n",
    "            p = self.params[i, 1]\n",
    "            for x in probs_by_feature:\n",
    "                p *= x\n",
    "            probs.append(p)\n",
    "        return probs\n",
    "\n",
    "    def fit(self, features, target, verbose=False):\n",
    "        # Converts input to numpy array if it is given in a different form\n",
    "        features = np.array(features)\n",
    "        target = np.array(target)\n",
    "\n",
    "        # Class probability calculations. Results stores in self.num_classes\n",
    "        unique_classes, counts = np.unique(target, return_counts=True)\n",
    "        class_counts = dict(zip(unique_classes, counts))\n",
    "        self.num_classes = len(class_counts)\n",
    "        class_probs = []\n",
    "        for i in range(len(class_counts)):\n",
    "            class_prob = class_counts[i]/len(target)\n",
    "            class_probs.append(class_prob)\n",
    "\n",
    "        # Calculate parameters for each (feature, class) combination, under the assumtion of independence\n",
    "        # and normal distributions. Parameters are mean and varience of feature,class pair\n",
    "        for j in unique_classes:\n",
    "            num_feats = np.array(range(len(features[0])))\n",
    "            feats = features[target == j]\n",
    "            mean = np.mean(feats, axis = 0)\n",
    "            varience = np.var(feats, axis = 0)\n",
    "            class_prob = class_probs[j]\n",
    "            # create an array of format: class number, class prob, feature number, mean, variance\n",
    "            class_array = np.column_stack((np.array([j for i in range(len(features[0]))]), \n",
    "                                           np.array([class_prob for i in range(len(features[0]))]),\n",
    "                                           num_feats, mean, varience))\n",
    "            if self.params == []:\n",
    "                self.params = class_array\n",
    "            else:\n",
    "                self.params = np.concatenate((self.params, class_array), axis = 0)\n",
    "        \n",
    "        # Prints calculations if verbose output desired\n",
    "        if verbose == True:\n",
    "            print('Class Number, Class Probability, Feature Number, Mean, Varience\\n',\n",
    "                  self.params, '\\n')\n",
    "        return 'FIT COMPLETE'\n",
    "\n",
    "    # Makes predictions based on test instances. Calculates psuedo-posterior values to determine the class of \n",
    "    # each test value. Returns prediction list and psuedo-posterior list\n",
    "    def predict(self, features_test):\n",
    "        features_test = np.array(features_test)\n",
    "        predictions = []\n",
    "        probs = []\n",
    "        # Loop allows for as many test instances to be passed in and still make predictions for each\n",
    "        for i in range(len(features_test)):\n",
    "            # pass through each class, store the posterior probability of the greatest class\n",
    "            probs_by_class = []\n",
    "            probs_by_class = self.calc_posteriors(features_test[i])\n",
    "\n",
    "            # Store the predicted classes in one list and their respective weights in another\n",
    "            predictions.append(np.argmax(probs_by_class))\n",
    "            probs.append(probs_by_class)\n",
    "\n",
    "        return predictions, probs"
   ]
  },
  {
   "cell_type": "markdown",
   "metadata": {},
   "source": [
    "## Training the Model"
   ]
  },
  {
   "cell_type": "code",
   "execution_count": 5,
   "metadata": {},
   "outputs": [],
   "source": [
    "clf  = gaussian_naive_bayes()"
   ]
  },
  {
   "cell_type": "code",
   "execution_count": 6,
   "metadata": {},
   "outputs": [
    {
     "name": "stdout",
     "output_type": "stream",
     "text": [
      "Class Number, Class Probability, Feature Number, Mean, Varience\n",
      " [[0.         0.33858268 0.         4.99767442 0.12999459]\n",
      " [0.         0.33858268 1.         3.40465116 0.13904813]\n",
      " [0.         0.33858268 2.         1.4627907  0.02838291]\n",
      " [0.         0.33858268 3.         0.24651163 0.01132504]\n",
      " [1.         0.30708661 0.         5.87179487 0.27279421]\n",
      " [1.         0.30708661 1.         2.75384615 0.10453649]\n",
      " [1.         0.30708661 2.         4.19487179 0.23946088]\n",
      " [1.         0.30708661 3.         1.31538462 0.04130178]\n",
      " [2.         0.35433071 0.         6.62888889 0.38472099]\n",
      " [2.         0.35433071 1.         2.98444444 0.10620247]\n",
      " [2.         0.35433071 2.         5.54888889 0.30072099]\n",
      " [2.         0.35433071 3.         2.02666667 0.06417778]] \n",
      "\n"
     ]
    },
    {
     "name": "stderr",
     "output_type": "stream",
     "text": [
      "C:\\Users\\wardz\\Anaconda3\\lib\\site-packages\\ipykernel_launcher.py:53: DeprecationWarning: elementwise comparison failed; this will raise an error in the future.\n"
     ]
    },
    {
     "data": {
      "text/plain": [
       "'FIT COMPLETE'"
      ]
     },
     "execution_count": 6,
     "metadata": {},
     "output_type": "execute_result"
    }
   ],
   "source": [
    "clf.fit(x_train, y_train, verbose=True)"
   ]
  },
  {
   "cell_type": "markdown",
   "metadata": {},
   "source": [
    "## Making Predictions"
   ]
  },
  {
   "cell_type": "code",
   "execution_count": 7,
   "metadata": {
    "scrolled": true
   },
   "outputs": [],
   "source": [
    "predictions, weights = clf.predict(x_test)"
   ]
  },
  {
   "cell_type": "markdown",
   "metadata": {},
   "source": [
    "## Training and Predicting with Sklearn's Gaussian Naive Bayes Model"
   ]
  },
  {
   "cell_type": "code",
   "execution_count": 8,
   "metadata": {},
   "outputs": [
    {
     "data": {
      "text/plain": [
       "GaussianNB(priors=None, var_smoothing=1e-09)"
      ]
     },
     "execution_count": 8,
     "metadata": {},
     "output_type": "execute_result"
    }
   ],
   "source": [
    "model = GaussianNB()\n",
    "model.fit(x_train,y_train)"
   ]
  },
  {
   "cell_type": "code",
   "execution_count": 9,
   "metadata": {},
   "outputs": [],
   "source": [
    "sk_predictions = model.predict(x_test)"
   ]
  },
  {
   "cell_type": "markdown",
   "metadata": {},
   "source": [
    "## Comparing Sklearn, Numpy-based Model, and Actual Values"
   ]
  },
  {
   "cell_type": "code",
   "execution_count": 10,
   "metadata": {},
   "outputs": [],
   "source": [
    "comparison = pd.DataFrame({'Scratch': predictions, 'Sklearn': sk_predictions, 'Actual': y_test})"
   ]
  },
  {
   "cell_type": "code",
   "execution_count": 11,
   "metadata": {},
   "outputs": [
    {
     "data": {
      "text/html": [
       "<div>\n",
       "<style scoped>\n",
       "    .dataframe tbody tr th:only-of-type {\n",
       "        vertical-align: middle;\n",
       "    }\n",
       "\n",
       "    .dataframe tbody tr th {\n",
       "        vertical-align: top;\n",
       "    }\n",
       "\n",
       "    .dataframe thead th {\n",
       "        text-align: right;\n",
       "    }\n",
       "</style>\n",
       "<table border=\"1\" class=\"dataframe\">\n",
       "  <thead>\n",
       "    <tr style=\"text-align: right;\">\n",
       "      <th></th>\n",
       "      <th>Scratch</th>\n",
       "      <th>Sklearn</th>\n",
       "      <th>Actual</th>\n",
       "    </tr>\n",
       "  </thead>\n",
       "  <tbody>\n",
       "    <tr>\n",
       "      <th>134</th>\n",
       "      <td>1</td>\n",
       "      <td>1</td>\n",
       "      <td>2</td>\n",
       "    </tr>\n",
       "  </tbody>\n",
       "</table>\n",
       "</div>"
      ],
      "text/plain": [
       "     Scratch  Sklearn  Actual\n",
       "134        1        1       2"
      ]
     },
     "execution_count": 11,
     "metadata": {},
     "output_type": "execute_result"
    }
   ],
   "source": [
    "comparison[comparison['Scratch'] != comparison['Actual']]"
   ]
  },
  {
   "cell_type": "code",
   "execution_count": 12,
   "metadata": {},
   "outputs": [
    {
     "data": {
      "text/html": [
       "<div>\n",
       "<style scoped>\n",
       "    .dataframe tbody tr th:only-of-type {\n",
       "        vertical-align: middle;\n",
       "    }\n",
       "\n",
       "    .dataframe tbody tr th {\n",
       "        vertical-align: top;\n",
       "    }\n",
       "\n",
       "    .dataframe thead th {\n",
       "        text-align: right;\n",
       "    }\n",
       "</style>\n",
       "<table border=\"1\" class=\"dataframe\">\n",
       "  <thead>\n",
       "    <tr style=\"text-align: right;\">\n",
       "      <th></th>\n",
       "      <th>Scratch</th>\n",
       "      <th>Sklearn</th>\n",
       "      <th>Actual</th>\n",
       "    </tr>\n",
       "  </thead>\n",
       "  <tbody>\n",
       "    <tr>\n",
       "      <th>134</th>\n",
       "      <td>1</td>\n",
       "      <td>1</td>\n",
       "      <td>2</td>\n",
       "    </tr>\n",
       "  </tbody>\n",
       "</table>\n",
       "</div>"
      ],
      "text/plain": [
       "     Scratch  Sklearn  Actual\n",
       "134        1        1       2"
      ]
     },
     "execution_count": 12,
     "metadata": {},
     "output_type": "execute_result"
    }
   ],
   "source": [
    "comparison[comparison['Sklearn'] != comparison['Actual']]"
   ]
  },
  {
   "cell_type": "code",
   "execution_count": 13,
   "metadata": {},
   "outputs": [
    {
     "data": {
      "text/html": [
       "<div>\n",
       "<style scoped>\n",
       "    .dataframe tbody tr th:only-of-type {\n",
       "        vertical-align: middle;\n",
       "    }\n",
       "\n",
       "    .dataframe tbody tr th {\n",
       "        vertical-align: top;\n",
       "    }\n",
       "\n",
       "    .dataframe thead th {\n",
       "        text-align: right;\n",
       "    }\n",
       "</style>\n",
       "<table border=\"1\" class=\"dataframe\">\n",
       "  <thead>\n",
       "    <tr style=\"text-align: right;\">\n",
       "      <th></th>\n",
       "      <th>Scratch</th>\n",
       "      <th>Sklearn</th>\n",
       "      <th>Actual</th>\n",
       "    </tr>\n",
       "  </thead>\n",
       "  <tbody>\n",
       "  </tbody>\n",
       "</table>\n",
       "</div>"
      ],
      "text/plain": [
       "Empty DataFrame\n",
       "Columns: [Scratch, Sklearn, Actual]\n",
       "Index: []"
      ]
     },
     "execution_count": 13,
     "metadata": {},
     "output_type": "execute_result"
    }
   ],
   "source": [
    "comparison[comparison['Scratch'] != comparison['Sklearn']]"
   ]
  },
  {
   "cell_type": "markdown",
   "metadata": {},
   "source": [
    "Numpy based naive bayes classifier preforms as well as the sklearn model on the iris dataset, with both missing one test case. "
   ]
  }
 ],
 "metadata": {
  "hide_input": false,
  "kernelspec": {
   "display_name": "Python 3",
   "language": "python",
   "name": "python3"
  },
  "language_info": {
   "codemirror_mode": {
    "name": "ipython",
    "version": 3
   },
   "file_extension": ".py",
   "mimetype": "text/x-python",
   "name": "python",
   "nbconvert_exporter": "python",
   "pygments_lexer": "ipython3",
   "version": "3.7.3"
  },
  "toc": {
   "base_numbering": 1,
   "nav_menu": {},
   "number_sections": true,
   "sideBar": true,
   "skip_h1_title": true,
   "title_cell": "Table of Contents",
   "title_sidebar": "Contents",
   "toc_cell": false,
   "toc_position": {},
   "toc_section_display": true,
   "toc_window_display": true
  },
  "varInspector": {
   "cols": {
    "lenName": 16,
    "lenType": 16,
    "lenVar": 40
   },
   "kernels_config": {
    "python": {
     "delete_cmd_postfix": "",
     "delete_cmd_prefix": "del ",
     "library": "var_list.py",
     "varRefreshCmd": "print(var_dic_list())"
    },
    "r": {
     "delete_cmd_postfix": ") ",
     "delete_cmd_prefix": "rm(",
     "library": "var_list.r",
     "varRefreshCmd": "cat(var_dic_list()) "
    }
   },
   "types_to_exclude": [
    "module",
    "function",
    "builtin_function_or_method",
    "instance",
    "_Feature"
   ],
   "window_display": false
  }
 },
 "nbformat": 4,
 "nbformat_minor": 2
}
